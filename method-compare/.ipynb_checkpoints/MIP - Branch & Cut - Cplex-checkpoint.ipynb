{
 "cells": [
  {
   "cell_type": "markdown",
   "id": "controversial-irrigation",
   "metadata": {},
   "source": [
    "Formula:\n",
    "\\begin{align}\n",
    "\\min \\quad & \\sum_{(i,j)\\in A}d_{i,j}x_{i,j} \\\\\n",
    "\\text{s.t.} \\quad & \\sum_{(i,j)\\in A : j=h} x_{i,j} = 1 && \\forall \\ h \\in C \\\\\n",
    "& \\sum_{(i,j)\\in A : i=h} x_{i,j} = 1 && \\forall \\ h \\in C \\\\\n",
    "& x_{i,j} = 1 \\Rightarrow u_i + v_j = u_j && \\forall \\ (i,j) \\in A : i\\neq 0 , \\ j\\neq 0 \\\\\n",
    "& x_{i,j} = 1 \\Rightarrow w_i + p_j = w_j && \\forall \\ (i,j) \\in A : i\\neq 0 , \\ j\\neq 0 \\\\\n",
    "& v_i \\leq u_i \\leq V && \\forall \\ i \\in C \\\\\n",
    "& p_i \\leq w_i \\leq P && \\forall \\ i \\in C \\\\\n",
    "& x_{i,j} \\in \\{0,1\\} && \\forall \\ (i,j) \\in A\n",
    "\\end{align}"
   ]
  },
  {
   "cell_type": "code",
   "execution_count": 1,
   "id": "unauthorized-surveillance",
   "metadata": {},
   "outputs": [
    {
     "name": "stdout",
     "output_type": "stream",
     "text": [
      "3.7.10\n"
     ]
    }
   ],
   "source": [
    "import os\n",
    "os.environ[\"SPARK_HOME\"] = \"D:\\RISET\\Spark\\spark-3.1.1-bin-hadoop2.7\"\n",
    "from platform import python_version\n",
    "print(python_version())"
   ]
  },
  {
   "cell_type": "code",
   "execution_count": 18,
   "id": "defensive-missile",
   "metadata": {},
   "outputs": [],
   "source": [
    "import numpy as np\n",
    "import pandas as pd\n",
    "import xlwings as xw\n",
    "import folium\n",
    "import docplex.mp.solution as mp_sol\n",
    "from docplex.mp.model import Model\n",
    "from geopy.distance import great_circle\n",
    "import json\n",
    "\n",
    "n = 35\n",
    "customer = [i for i in range(1, n + 1)]\n",
    "node = [0] + customer\n",
    "arcos = [(i,j) for i in node for j in node if i != j]\n",
    "f = open('pelanggan.json')\n",
    "data = json.load(f)\n",
    "# get customer demand and location data\n",
    "df = pd.DataFrame(data)\n",
    "# print(df)\n",
    "# get distance data\n",
    "distance = np.loadtxt('distance.txt')\n",
    "\n",
    "vehicle_capacity = 250"
   ]
  },
  {
   "cell_type": "code",
   "execution_count": 19,
   "id": "automotive-integer",
   "metadata": {},
   "outputs": [],
   "source": [
    "mdl = Model('CVRP')"
   ]
  },
  {
   "cell_type": "code",
   "execution_count": 20,
   "id": "acoustic-chuck",
   "metadata": {},
   "outputs": [],
   "source": [
    "x = mdl.binary_var_dict(arcos, name='x')\n",
    "u = mdl.continuous_var_dict(customer, name='u')\n",
    "w = mdl.continuous_var_dict(customer, name='w')"
   ]
  },
  {
   "cell_type": "markdown",
   "id": "crude-average",
   "metadata": {},
   "source": [
    "$$\\min \\sum_{(i,j)\\in A}d_{i,j}x_{i,j}$$"
   ]
  },
  {
   "cell_type": "code",
   "execution_count": 21,
   "id": "auburn-scanning",
   "metadata": {},
   "outputs": [],
   "source": [
    "mdl.minimize(mdl.sum(distance[(i, j)] * x[(i, j)] for i, j in arcos))"
   ]
  },
  {
   "cell_type": "markdown",
   "id": "changed-circuit",
   "metadata": {},
   "source": [
    "$$ \\sum_{(i,j)\\in A : j=h} x_{i,j} = 1 \\qquad \\forall \\ h \\in C $$"
   ]
  },
  {
   "cell_type": "code",
   "execution_count": 22,
   "id": "actual-vector",
   "metadata": {},
   "outputs": [],
   "source": [
    "for h in customer:\n",
    "    mdl.add_constraint(mdl.sum(x[(i,j)] for i,j in arcos if i==h)==1, ctname='out_%d'%h)"
   ]
  },
  {
   "cell_type": "markdown",
   "id": "hispanic-bandwidth",
   "metadata": {},
   "source": [
    "$$ \\sum_{(i,j)\\in A : i=h} x_{i,j} = 1 \\qquad \\forall \\ h \\in C $$"
   ]
  },
  {
   "cell_type": "code",
   "execution_count": 23,
   "id": "healthy-canberra",
   "metadata": {},
   "outputs": [],
   "source": [
    "for h in customer:\n",
    "    mdl.add_constraint(mdl.sum(x[(i,j)] for i,j in arcos if j==h)==1, ctname='in_%d'%h)"
   ]
  },
  {
   "cell_type": "markdown",
   "id": "cathedral-haven",
   "metadata": {},
   "source": [
    "$$ x_{i,j} = 1 \\Rightarrow u_i + v_j = u_j \\qquad \\forall \\ (i,j) \\in A : i\\neq 0 , \\ j\\neq 0 $$\n",
    "$$ x_{i,j} = 1 \\Rightarrow w_i + p_j = w_j \\qquad \\forall \\ (i,j) \\in A : i\\neq 0 , \\ j\\neq 0 $$"
   ]
  },
  {
   "cell_type": "code",
   "execution_count": 24,
   "id": "worse-peter",
   "metadata": {},
   "outputs": [],
   "source": [
    "for i, j in arcos:\n",
    "    if i!=0 and j!=0:\n",
    "        mdl.add_indicator(x[(i,j)], u[i] + df.demand[j] == u[j])"
   ]
  },
  {
   "cell_type": "markdown",
   "id": "flying-handle",
   "metadata": {},
   "source": [
    "$$ v_i \\leq u_i \\leq V \\qquad \\forall \\ i \\in C $$\n",
    "$$ p_i \\leq w_i \\leq P \\qquad \\forall \\ i \\in C $$"
   ]
  },
  {
   "cell_type": "code",
   "execution_count": 25,
   "id": "trained-marble",
   "metadata": {},
   "outputs": [],
   "source": [
    "for i in customer:\n",
    "    mdl.add_constraint(df.demand[i] <= u[i])\n",
    "    mdl.add_constraint(u[i] <= vehicle_capacity)"
   ]
  },
  {
   "cell_type": "code",
   "execution_count": 26,
   "id": "quick-introduction",
   "metadata": {},
   "outputs": [
    {
     "name": "stdout",
     "output_type": "stream",
     "text": [
      "Version identifier: 12.10.0.0 | 2019-11-26 | 843d4de2ae\n",
      "CPXPARAM_Read_DataCheck                          1\n",
      "CPXPARAM_TimeLimit                               60\n",
      "Found incumbent of value 144865.000000 after 0.00 sec. (0.05 ticks)\n",
      "Tried aggregator 2 times.\n",
      "MIP Presolve eliminated 50 rows and 25 columns.\n",
      "MIP Presolve modified 300 coefficients.\n",
      "Aggregator did 300 substitutions.\n",
      "Reduced MIP has 350 rows, 975 columns, and 2150 nonzeros.\n",
      "Reduced MIP has 650 binaries, 0 generals, 0 SOSs, and 600 indicators.\n",
      "Presolve time = 0.05 sec. (2.74 ticks)\n",
      "Probing time = 0.05 sec. (5.07 ticks)\n",
      "Tried aggregator 1 time.\n",
      "Detecting symmetries...\n",
      "Reduced MIP has 350 rows, 975 columns, and 2150 nonzeros.\n",
      "Reduced MIP has 650 binaries, 0 generals, 0 SOSs, and 600 indicators.\n",
      "Presolve time = 0.02 sec. (1.49 ticks)\n",
      "Probing time = 0.02 sec. (2.29 ticks)\n",
      "Clique table members: 350.\n",
      "MIP emphasis: balance optimality and feasibility.\n",
      "MIP search method: dynamic search.\n",
      "Parallel mode: deterministic, using up to 8 threads.\n",
      "Root relaxation solution time = 0.02 sec. (0.68 ticks)\n",
      "\n",
      "        Nodes                                         Cuts/\n",
      "   Node  Left     Objective  IInf  Best Integer    Best Bound    ItCnt     Gap\n",
      "\n",
      "*     0+    0                       144865.0000        0.0000           100.00%\n",
      "*     0+    0                       143642.0000        0.0000           100.00%\n",
      "      0     0    16662.0000    25   143642.0000    16662.0000       40   88.40%\n",
      "      0     0    18749.5440    25   143642.0000      Cuts: 42       78   86.95%\n",
      "      0     0    18811.9871    25   143642.0000      Cuts: 27      117   86.90%\n",
      "      0     0    18831.1335    25   143642.0000      Cuts: 32      143   86.89%\n",
      "      0     0    18832.1988    25   143642.0000       Cuts: 8      151   86.89%\n",
      "      0     0    18833.6194    25   143642.0000       Cuts: 5      155   86.89%\n",
      "Detecting symmetries...\n",
      "      0     0    18834.0391    25   143642.0000   Impl Bds: 1      157   86.89%\n",
      "      0     0    18834.0391    25   143642.0000   Impl Bds: 1      158   86.89%\n",
      "*     0+    0                        37003.0000    18834.0391            49.10%\n",
      "Detecting symmetries...\n",
      "      0     2    18834.0391    32    37003.0000    19297.7324      158   47.85%\n",
      "Elapsed time = 0.66 sec. (55.38 ticks, tree = 0.02 MB, solutions = 3)\n",
      "*   120+   70                        33607.0000    19297.7324            42.58%\n",
      "*   852+  554                        33602.0000    19297.7324            42.57%\n",
      "\n",
      "Performing restart 1\n",
      "\n",
      "Repeating presolve.\n",
      "Tried aggregator 1 time.\n",
      "Reduced MIP has 350 rows, 975 columns, and 2150 nonzeros.\n",
      "Reduced MIP has 650 binaries, 0 generals, 0 SOSs, and 600 indicators.\n",
      "Presolve time = 0.00 sec. (1.11 ticks)\n",
      "Tried aggregator 1 time.\n",
      "Reduced MIP has 350 rows, 975 columns, and 2150 nonzeros.\n",
      "Reduced MIP has 650 binaries, 0 generals, 0 SOSs, and 600 indicators.\n",
      "Presolve time = 0.02 sec. (1.60 ticks)\n",
      "Represolve time = 0.08 sec. (10.41 ticks)\n",
      "   3707     0    19320.6093    36    33602.0000       Cuts: 3    34170   42.50%\n",
      "   3707     0    19321.1994    36    33602.0000       Cuts: 2    34180   42.50%\n",
      "   3707     0    19323.7933    36    33602.0000      Cuts: 28    34199   42.49%\n",
      "   3707     0    19323.7933    36    33602.0000      Cuts: 26    34216   42.49%\n",
      "   3707     0    19323.7933    36    33602.0000  Impl Bds: 24    34222   42.49%\n",
      "   3707     0    19323.7933    36    33602.0000      Cuts: 25    34235   42.49%\n",
      "   3707     0    19323.7933    36    33602.0000       Cuts: 6    34245   42.49%\n",
      "   3707     0    19323.7933    36    33602.0000  Impl Bds: 14    34255   42.49%\n",
      "   3707     0    19323.7933    36    33602.0000       Cuts: 5    34259   42.49%\n",
      "   3707     2    19323.7933    30    33602.0000    19325.6400    34259   42.49%\n",
      "   6271  1815    26958.0280    15    33602.0000    19518.0000    49920   41.91%\n",
      "  10492  4592    21056.7640    21    33602.0000    19682.6664    78681   41.42%\n",
      "  14545  7703    infeasible          33602.0000    19763.4920   116222   41.18%\n",
      "  18694 10838    27412.3000     7    33602.0000    19809.2832   159666   41.05%\n",
      "  22925 12890    31575.0800     9    33602.0000    19862.5455   189081   40.89%\n",
      "  27083 15771    29621.0160    10    33602.0000    19897.2977   228489   40.79%\n",
      "  31149 19128    29869.5400     9    33602.0000    19932.3563   277643   40.68%\n",
      "  35270 21852    20835.6000    23    33602.0000    19959.6600   317424   40.60%\n",
      "  46851 29663    29086.0000     2    33602.0000    20015.9703   433350   40.43%\n",
      "Elapsed time = 16.94 sec. (3271.77 ticks, tree = 17.11 MB, solutions = 5)\n",
      "  63976 40270    33381.7080    14    33602.0000    20084.0280   588869   40.23%\n",
      "\n",
      "Performing restart 2\n",
      "\n",
      "Repeating presolve.\n",
      "Tried aggregator 1 time.\n",
      "Reduced MIP has 350 rows, 975 columns, and 2150 nonzeros.\n",
      "Reduced MIP has 650 binaries, 0 generals, 0 SOSs, and 600 indicators.\n",
      "Presolve time = 0.01 sec. (1.11 ticks)\n",
      "Tried aggregator 1 time.\n",
      "Reduced MIP has 350 rows, 975 columns, and 2150 nonzeros.\n",
      "Reduced MIP has 650 binaries, 0 generals, 0 SOSs, and 600 indicators.\n",
      "Presolve time = 0.02 sec. (1.60 ticks)\n",
      "Represolve time = 0.11 sec. (21.88 ticks)\n",
      "  73769  1936    31558.0000     5    33602.0000    20106.6787   704301   40.16%\n",
      "  84125  9789    27327.0686    10    33602.0000    20106.6787   797359   40.16%\n",
      "  95856 17557    20346.0953    26    33602.0000    20106.6787   898320   40.16%\n",
      " 107171 26479    23979.9911    20    33602.0000    20106.6787  1011703   40.16%\n",
      " 117332 33514    31717.0000     4    33602.0000    20106.6787  1108826   40.16%\n",
      " 127416 40452    33420.0000     8    33602.0000    20106.6787  1212197   40.16%\n",
      "*131905+43837                        33601.0000    20115.4634            40.13%\n",
      "*132553+44237                        33204.0000    20116.4399            39.42%\n",
      " 135244 46645    27834.1360     9    33204.0000    20130.1680  1306351   39.37%\n",
      "\n",
      "GUB cover cuts applied:  1\n",
      "Clique cuts applied:  8\n",
      "Implied bound cuts applied:  217\n",
      "Flow cuts applied:  1\n",
      "Mixed integer rounding cuts applied:  6\n",
      "Gomory fractional cuts applied:  13\n",
      "\n",
      "Root node processing (before b&c):\n",
      "  Real time             =    0.64 sec. (55.15 ticks)\n",
      "Parallel b&c, 8 threads:\n",
      "  Real time             =   59.39 sec. (11412.34 ticks)\n",
      "  Sync time (average)   =    9.10 sec.\n",
      "  Wait time (average)   =    0.11 sec.\n",
      "                          ------------\n",
      "Total (root+branch&cut) =   60.03 sec. (11467.49 ticks)\n"
     ]
    }
   ],
   "source": [
    "mdl.parameters.timelimit = 60\n",
    "# mdl.parameters.parallel = 1\n",
    "# mdl.parameters.threads =  0\n",
    "# mdl.parameters.benders.strategy = -1\n",
    "# mdl.parameters.mip.limits.cutsfactor = 0\n",
    "# mdl.parameters.mip.tolerances.mipgap = 0.1\n",
    "# mdl.parameters.mip.strategy.branch = 0\n",
    "\n",
    "###Menghitung Waktu\n",
    "import time\n",
    "start_timer = time.time()\n",
    "\n",
    "solucion = mdl.solve(log_output=True)\n",
    "\n",
    "###Menghitung Waktu\n",
    "done_timer = time.time()\n",
    "elapsed = done_timer - start_timer"
   ]
  },
  {
   "cell_type": "code",
   "execution_count": 27,
   "id": "manufactured-china",
   "metadata": {},
   "outputs": [
    {
     "data": {
      "text/plain": [
       "<JobSolveStatus.FEASIBLE_SOLUTION: 1>"
      ]
     },
     "execution_count": 27,
     "metadata": {},
     "output_type": "execute_result"
    }
   ],
   "source": [
    "mdl.get_solve_status()"
   ]
  },
  {
   "cell_type": "code",
   "execution_count": 28,
   "id": "charged-anthony",
   "metadata": {},
   "outputs": [],
   "source": [
    "# Encontrar las rutas por separado\n",
    "route = []\n",
    "total_dis = []\n",
    "for h in customer:\n",
    "    if x[(0, h)].solution_value > 0.9:\n",
    "        arcos_route = [(0, h)]\n",
    "        item_dis = distance[0][h]\n",
    "        j = h\n",
    "        while j!=0:\n",
    "            i = j\n",
    "            for k in node:\n",
    "                if i!=k and x[(i, k)].solution_value > 0.9:\n",
    "                    j = k\n",
    "                    arcos_route.append((i, j))\n",
    "                    item_dis+= distance[i][j]\n",
    "                    break\n",
    "        route.append(arcos_route)\n",
    "        total_dis.append(item_dis)"
   ]
  },
  {
   "cell_type": "code",
   "execution_count": 29,
   "id": "detected-station",
   "metadata": {},
   "outputs": [
    {
     "name": "stdout",
     "output_type": "stream",
     "text": [
      "Rute 0\n",
      "[(0, 9), (9, 3), (3, 8), (8, 4), (4, 2), (2, 24), (24, 0)] -> 7009.0\n",
      "Rute 1\n",
      "[(0, 12), (12, 5), (5, 15), (15, 14), (14, 7), (7, 13), (13, 25), (25, 6), (6, 0)] -> 11536.0\n",
      "Rute 2\n",
      "[(0, 16), (16, 17), (17, 18), (18, 19), (19, 20), (20, 1), (1, 0)] -> 9834.0\n",
      "Rute 3\n",
      "[(0, 21), (21, 11), (11, 10), (10, 23), (23, 22), (22, 0)] -> 4825.0\n",
      "Total Distace : 33204.0\n",
      "60.07027983665466\n"
     ]
    }
   ],
   "source": [
    "best_distance = 0\n",
    "for n in range(len(route)):\n",
    "    print(\"Rute \"+str(n))\n",
    "    print(str(route[n])+\" -> \"+str(total_dis[n]))\n",
    "    best_distance+=total_dis[n]\n",
    "print(\"Total Distace : \"+str(best_distance))\n",
    "print(elapsed)"
   ]
  },
  {
   "cell_type": "code",
   "execution_count": null,
   "id": "muslim-education",
   "metadata": {},
   "outputs": [],
   "source": []
  }
 ],
 "metadata": {
  "kernelspec": {
   "display_name": "Python 3.7",
   "language": "python",
   "name": "py37"
  },
  "language_info": {
   "codemirror_mode": {
    "name": "ipython",
    "version": 3
   },
   "file_extension": ".py",
   "mimetype": "text/x-python",
   "name": "python",
   "nbconvert_exporter": "python",
   "pygments_lexer": "ipython3",
   "version": "3.7.10"
  }
 },
 "nbformat": 4,
 "nbformat_minor": 5
}
