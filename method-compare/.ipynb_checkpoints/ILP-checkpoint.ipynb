{
 "cells": [
  {
   "cell_type": "code",
   "execution_count": 1,
   "id": "protecting-treasurer",
   "metadata": {},
   "outputs": [
    {
     "name": "stdout",
     "output_type": "stream",
     "text": [
      "                                       name  latitude   longitude  demand\n",
      "0   Depo-Gas Station - Pertamina - 34-15316 -6.293370  106.648566       0\n",
      "1                                Customer 1 -6.308553  106.653698      46\n",
      "2                                Customer 2 -6.306463  106.653170      26\n",
      "3                                Customer 3 -6.313126  106.652578      26\n",
      "4                                Customer 4 -6.314943  106.652226      27\n",
      "5                                Customer 5 -6.312494  106.646621      16\n",
      "6                                Customer 6 -6.301097  106.642021      56\n",
      "7                                Customer 7 -6.303528  106.641497      26\n",
      "8                                Customer 8 -6.314158  106.652149      30\n",
      "9                                Customer 9 -6.309986  106.653968      56\n",
      "10                              Customer 10 -6.300227  106.648346      65\n",
      "11                              Customer 11 -6.296925  106.647788      46\n",
      "12                              Customer 12 -6.301284  106.641789      33\n",
      "13                              Customer 13 -6.303443  106.641643      17\n",
      "14                              Customer 14 -6.309696  106.641600      39\n",
      "15                              Customer 15 -6.313765  106.643033      16\n",
      "16                              Customer 16 -6.312273  106.660423      53\n",
      "17                              Customer 17 -6.312349  106.658869      31\n",
      "18                              Customer 18 -6.316018  106.653213      35\n",
      "19                              Customer 19 -6.318031  106.654294      64\n",
      "20                              Customer 20 -6.321640  106.654045      11\n",
      "21                              Customer 21 -6.296962  106.646390      13\n",
      "22                              Customer 22 -6.300260  106.647090      36\n",
      "23                              Customer 23 -6.303233  106.646141      33\n",
      "24                              Customer 24 -6.304129  106.650905      61\n",
      "25                              Customer 25 -6.296907  106.637953      42\n",
      "26                              Customer 26 -6.294232  106.640760      38\n",
      "27                              Customer 27 -6.234953  106.652488      22\n",
      "28                              Customer 28 -6.236532  106.656668      58\n",
      "29                              Customer 29 -6.223981  106.651458      57\n",
      "30                              Customer 30 -6.230960  106.627495      41\n",
      "31                              Customer 31 -6.259449  106.622465      23\n",
      "32                              Customer 32 -6.263024  106.619555      43\n",
      "33                              Customer 33 -6.272375  106.642678      48\n",
      "34                              Customer 34 -6.277135  106.664548      70\n",
      "35                              Customer 35 -6.297099  106.670204      50\n",
      "36                              Customer 36 -6.307720  106.675834      15\n",
      "37                              Customer 37 -6.316209  106.648896      67\n",
      "38                              Customer 38 -6.315513  106.650969      40\n",
      "39                              Customer 39 -6.316921  106.646948      43\n",
      "40                              Customer 40 -6.313991  106.649574      17\n",
      "41                              Customer 41 -6.219898  106.623173      43\n",
      "42                              Customer 42 -6.220871  106.615671      66\n",
      "43                              Customer 43 -6.279793  106.667599      48\n",
      "44                              Customer 44 -6.283248  106.668483      22\n",
      "45                              Customer 45 -6.296213  106.664227      11\n",
      "46                              Customer 46 -6.292639  106.663978      66\n",
      "47                              Customer 47 -6.292579  106.677626      41\n",
      "48                              Customer 48 -6.279082  106.665420      36\n",
      "49                              Customer 49 -6.277922  106.632067      19\n",
      "50                              Customer 50 -6.284739  106.626531      35\n"
     ]
    }
   ],
   "source": [
    "import numpy as np\n",
    "import pandas as pd\n",
    "import pulp\n",
    "import itertools\n",
    "import gmaps\n",
    "import googlemaps\n",
    "import matplotlib.pyplot as plt\n",
    "import json\n",
    "import time\n",
    "\n",
    "\n",
    "f = open('pelanggan.json')\n",
    "data = json.load(f)\n",
    "# get customer demand and location data\n",
    "df = pd.DataFrame(data)\n",
    "print(df)\n",
    "\n",
    "# get distance data\n",
    "distance = np.loadtxt('distance.txt')\n",
    "# print(distance)\n",
    "\n",
    "# customer count ('0' is depot) \n",
    "customer_count = 16\n",
    "\n",
    "# the number of vehicle\n",
    "vehicle_count = 10\n",
    "\n",
    "# the capacity of vehicle\n",
    "vehicle_capacity = 250\n",
    "\n",
    "# fix random seed\n",
    "np.random.seed(seed=777)\n"
   ]
  },
  {
   "cell_type": "code",
   "execution_count": 2,
   "id": "committed-organization",
   "metadata": {},
   "outputs": [
    {
     "name": "stdout",
     "output_type": "stream",
     "text": [
      "Vehicle Requirements: 3\n",
      "Moving Distance: 20628.0\n",
      "--- 2192.8745658397675 seconds ---\n"
     ]
    }
   ],
   "source": [
    "start_time = time.time()\n",
    "# solve with pulp\n",
    "for vehicle_count in range(1,vehicle_count+1):\n",
    "    \n",
    "    # definition of LpProblem instance\n",
    "    problem = pulp.LpProblem(\"CVRP\", pulp.LpMinimize)\n",
    "\n",
    "    # definition of variables which are 0/1\n",
    "    x = [[[pulp.LpVariable(\"x%s_%s_%s\"%(r,i,j), cat=\"Binary\") if i != j else None for j in range(customer_count)] for i in range(customer_count)] for r in range(vehicle_count)]\n",
    "    # add objective function\n",
    "    problem += pulp.lpSum(distance[i][j] * x[r][i][j] if i != j else 0\n",
    "                          for j in range(customer_count) \n",
    "                          for i in range (customer_count)\n",
    "                          for r in range(vehicle_count))\n",
    "    # constraints\n",
    "    # foluma (2)\n",
    "    for j in range(1, customer_count):\n",
    "        problem += pulp.lpSum(x[r][i][j] if i != j else 0 \n",
    "                              for r in range(vehicle_count)\n",
    "                              for i in range(customer_count)) == 1 \n",
    "    # foluma (3)\n",
    "    for r in range(vehicle_count):\n",
    "        problem += pulp.lpSum(x[r][0][j] for j in range(1,customer_count)) == 1\n",
    "        problem += pulp.lpSum(x[r][i][0] for i in range(1,customer_count)) == 1\n",
    "        \n",
    "    # foluma (4)\n",
    "    for r in range(vehicle_count):\n",
    "        for j in range(customer_count):\n",
    "            problem += pulp.lpSum(x[r][i][j] if i != j else 0 \n",
    "                                  for i in range(customer_count)) -  pulp.lpSum(x[r][j][i] for i in range(customer_count)) == 0\n",
    "            \n",
    "    #foluma (5)\n",
    "    for r in range(vehicle_count):\n",
    "        problem += pulp.lpSum(df.demand[j] * x[r][i][j] if i != j else 0 for i in range(customer_count) for j in range (1,customer_count)) <= vehicle_capacity \n",
    "\n",
    "     # fomula (6)\n",
    "    subtours = []\n",
    "    for i in range(2,customer_count):\n",
    "         subtours += itertools.combinations(range(1,customer_count), i)\n",
    "\n",
    "    for s in subtours:\n",
    "        problem += pulp.lpSum(x[r][i][j] if i !=j else 0 for i, j in itertools.permutations(s,2) for r in range(vehicle_count)) <= len(s) - 1\n",
    "\n",
    "    \n",
    "    # print vehicle_count which needed for solving problem\n",
    "    # print calculated minimum distance value\n",
    "    if problem.solve() == 1:\n",
    "        print('Vehicle Requirements:', vehicle_count)\n",
    "        print('Moving Distance:', pulp.value(problem.objective))\n",
    "        break\n",
    "\n",
    "#run your code\n",
    "print(\"--- %s seconds ---\" % (time.time() - start_time))"
   ]
  },
  {
   "cell_type": "code",
   "execution_count": 3,
   "id": "medieval-killer",
   "metadata": {},
   "outputs": [
    {
     "name": "stdout",
     "output_type": "stream",
     "text": [
      "                                       name  latitude   longitude  demand\n",
      "0   Depo-Gas Station - Pertamina - 34-15316 -6.293370  106.648566       0\n",
      "1                                Customer 1 -6.308553  106.653698      46\n",
      "2                                Customer 2 -6.306463  106.653170      26\n",
      "3                                Customer 3 -6.313126  106.652578      26\n",
      "4                                Customer 4 -6.314943  106.652226      27\n",
      "5                                Customer 5 -6.312494  106.646621      16\n",
      "6                                Customer 6 -6.301097  106.642021      56\n",
      "7                                Customer 7 -6.303528  106.641497      26\n",
      "8                                Customer 8 -6.314158  106.652149      30\n",
      "9                                Customer 9 -6.309986  106.653968      56\n",
      "10                              Customer 10 -6.300227  106.648346      65\n",
      "11                              Customer 11 -6.296925  106.647788      46\n",
      "12                              Customer 12 -6.301284  106.641789      33\n",
      "13                              Customer 13 -6.303443  106.641643      17\n",
      "14                              Customer 14 -6.309696  106.641600      39\n",
      "15                              Customer 15 -6.313765  106.643033      16\n",
      "16                              Customer 16 -6.312273  106.660423      53\n",
      "17                              Customer 17 -6.312349  106.658869      31\n",
      "18                              Customer 18 -6.316018  106.653213      35\n",
      "19                              Customer 19 -6.318031  106.654294      64\n",
      "20                              Customer 20 -6.321640  106.654045      11\n",
      "21                              Customer 21 -6.296962  106.646390      13\n",
      "22                              Customer 22 -6.300260  106.647090      36\n",
      "23                              Customer 23 -6.303233  106.646141      33\n",
      "24                              Customer 24 -6.304129  106.650905      61\n",
      "25                              Customer 25 -6.296907  106.637953      42\n",
      "26                              Customer 26 -6.294232  106.640760      38\n",
      "27                              Customer 27 -6.234953  106.652488      22\n",
      "28                              Customer 28 -6.236532  106.656668      58\n",
      "29                              Customer 29 -6.223981  106.651458      57\n",
      "30                              Customer 30 -6.230960  106.627495      41\n",
      "31                              Customer 31 -6.259449  106.622465      23\n",
      "32                              Customer 32 -6.263024  106.619555      43\n",
      "33                              Customer 33 -6.272375  106.642678      48\n",
      "34                              Customer 34 -6.277135  106.664548      70\n",
      "35                              Customer 35 -6.297099  106.670204      50\n",
      "36                              Customer 36 -6.307720  106.675834      15\n",
      "37                              Customer 37 -6.316209  106.648896      67\n",
      "38                              Customer 38 -6.315513  106.650969      40\n",
      "39                              Customer 39 -6.316921  106.646948      43\n",
      "40                              Customer 40 -6.313991  106.649574      17\n",
      "41                              Customer 41 -6.219898  106.623173      43\n",
      "42                              Customer 42 -6.220871  106.615671      66\n",
      "43                              Customer 43 -6.279793  106.667599      48\n",
      "44                              Customer 44 -6.283248  106.668483      22\n",
      "45                              Customer 45 -6.296213  106.664227      11\n",
      "46                              Customer 46 -6.292639  106.663978      66\n",
      "47                              Customer 47 -6.292579  106.677626      41\n",
      "48                              Customer 48 -6.279082  106.665420      36\n",
      "49                              Customer 49 -6.277922  106.632067      19\n",
      "50                              Customer 50 -6.284739  106.626531      35\n"
     ]
    },
    {
     "data": {
      "application/vnd.jupyter.widget-view+json": {
       "model_id": "e5959e60ee3447ce8a388d65c1a45939",
       "version_major": 2,
       "version_minor": 0
      },
      "text/plain": [
       "Figure(layout=FigureLayout(height='420px'))"
      ]
     },
     "metadata": {},
     "output_type": "display_data"
    }
   ],
   "source": [
    "print(df)\n",
    "# visualization : plotting on google maps\n",
    "fig = gmaps.figure()\n",
    "layer = []\n",
    "color_list = [\"red\",\"blue\",\"green\"]\n",
    "\n",
    "for r in range(vehicle_count):\n",
    "    for i in range(customer_count):\n",
    "        for j in range(customer_count):\n",
    "            if i != j and pulp.value(x[r][i][j]) == 1:\n",
    "                layer.append(gmaps.directions.Directions(\n",
    "                    (df.latitude[i],df.longitude[i]),\n",
    "                    (df.latitude[j],df.longitude[j]),\n",
    "                    mode='car',stroke_color=color_list[r],stroke_opacity=1.0, stroke_weight=5.0))\n",
    "\n",
    "for i in range(len(layer)):\n",
    "    fig.add_layer(layer[i])\n",
    "\n",
    "fig"
   ]
  },
  {
   "cell_type": "code",
   "execution_count": 4,
   "id": "educational-india",
   "metadata": {},
   "outputs": [
    {
     "data": {
      "image/png": "[encoded data removed]",
      "text/plain": [
       "<Figure size 576x576 with 1 Axes>"
      ]
     },
     "metadata": {
      "needs_background": "light"
     },
     "output_type": "display_data"
    }
   ],
   "source": [
    "\n",
    "# visualization : plotting with matplolib\n",
    "plt.figure(figsize=(8,8))\n",
    "for i in range(customer_count):    \n",
    "    if i == 0:\n",
    "        plt.scatter(df.latitude[i], df.longitude[i], c='green', s=200)\n",
    "        plt.text(df.latitude[i], df.longitude[i], \"depot\", fontsize=12)\n",
    "    else:\n",
    "        plt.scatter(df.latitude[i], df.longitude[i], c='orange', s=200)\n",
    "        plt.text(df.latitude[i], df.longitude[i], str(df.demand[i]), fontsize=12)\n",
    "\n",
    "for k in range(vehicle_count):\n",
    "    for i in range(customer_count):\n",
    "        for j in range(customer_count):\n",
    "            if i != j and pulp.value(x[k][i][j]) == 1:\n",
    "                plt.plot([df.latitude[i], df.latitude[j]], [df.longitude[i], df.longitude[j]], c=\"black\")\n",
    "\n",
    "plt.show()"
   ]
  },
  {
   "cell_type": "code",
   "execution_count": 5,
   "id": "powered-continuity",
   "metadata": {},
   "outputs": [
    {
     "name": "stdout",
     "output_type": "stream",
     "text": [
      "Vechicle 0 Routes = 0[250] --> 12[217] --> 5[201] --> 15[185] --> 14[146] --> 7[120] --> 13[103] --> 6[47] --> 0\n",
      "Vechicle 1 Routes = 0[250] --> 9[194] --> 3[168] --> 8[138] --> 4[111] --> 1[65] --> 2[39] --> 0\n",
      "Vechicle 2 Routes = 0[250] --> 10[185] --> 11[139] --> 0\n"
     ]
    }
   ],
   "source": [
    "res = [None] * vehicle_count\n",
    "for k in range(vehicle_count):\n",
    "    res[k] = [None] * customer_count\n",
    "    for i in range(customer_count):\n",
    "        for j in range(customer_count): \n",
    "            if i != j and pulp.value(x[k][i][j]) == 1:\n",
    "#                 print(\"i:\"+str(i)+\" ,j:\"+str(j)+\" ,k:\"+str(k))\n",
    "                res[k][i] = j\n",
    "# print(res)\n",
    "for k in range(vehicle_count):\n",
    "    capacity = vehicle_capacity\n",
    "    rts = \"Vechicle \"+str(k)+\" Routes = 0[\"+str(capacity)+\"] --> \"\n",
    "    c_rts = res[k][0]\n",
    "    while(c_rts != 0):\n",
    "        capacity -= df.iloc[c_rts,3]\n",
    "        rts += str(c_rts)+\"[\"+str(capacity)+\"] --> \"\n",
    "        c_rts = res[k][c_rts]\n",
    "    rts+= \"0\"\n",
    "    print(rts)"
   ]
  },
  {
   "cell_type": "code",
   "execution_count": null,
   "id": "black-elimination",
   "metadata": {},
   "outputs": [],
   "source": []
  }
 ],
 "metadata": {
  "kernelspec": {
   "display_name": "Python 3",
   "language": "python",
   "name": "python3"
  },
  "language_info": {
   "codemirror_mode": {
    "name": "ipython",
    "version": 3
   },
   "file_extension": ".py",
   "mimetype": "text/x-python",
   "name": "python",
   "nbconvert_exporter": "python",
   "pygments_lexer": "ipython3",
   "version": "3.8.3"
  }
 },
 "nbformat": 4,
 "nbformat_minor": 5
}
