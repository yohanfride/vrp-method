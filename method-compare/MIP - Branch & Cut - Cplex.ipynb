{
 "cells": [
  {
   "cell_type": "markdown",
   "id": "controversial-irrigation",
   "metadata": {},
   "source": [
    "Formula:\n",
    "\\begin{align}\n",
    "\\min \\quad & \\sum_{(i,j)\\in A}d_{i,j}x_{i,j} \\\\\n",
    "\\text{s.t.} \\quad & \\sum_{(i,j)\\in A : j=h} x_{i,j} = 1 && \\forall \\ h \\in C \\\\\n",
    "& \\sum_{(i,j)\\in A : i=h} x_{i,j} = 1 && \\forall \\ h \\in C \\\\\n",
    "& x_{i,j} = 1 \\Rightarrow u_i + v_j = u_j && \\forall \\ (i,j) \\in A : i\\neq 0 , \\ j\\neq 0 \\\\\n",
    "& x_{i,j} = 1 \\Rightarrow w_i + p_j = w_j && \\forall \\ (i,j) \\in A : i\\neq 0 , \\ j\\neq 0 \\\\\n",
    "& v_i \\leq u_i \\leq V && \\forall \\ i \\in C \\\\\n",
    "& p_i \\leq w_i \\leq P && \\forall \\ i \\in C \\\\\n",
    "& x_{i,j} \\in \\{0,1\\} && \\forall \\ (i,j) \\in A\n",
    "\\end{align}"
   ]
  },
  {
   "cell_type": "code",
   "execution_count": 1,
   "id": "unauthorized-surveillance",
   "metadata": {},
   "outputs": [
    {
     "name": "stdout",
     "output_type": "stream",
     "text": [
      "3.7.10\n"
     ]
    }
   ],
   "source": [
    "import os\n",
    "os.environ[\"SPARK_HOME\"] = \"D:\\RISET\\Spark\\spark-3.1.1-bin-hadoop2.7\"\n",
    "from platform import python_version\n",
    "print(python_version())"
   ]
  },
  {
   "cell_type": "code",
   "execution_count": 2,
   "id": "defensive-missile",
   "metadata": {},
   "outputs": [],
   "source": [
    "import numpy as np\n",
    "import pandas as pd\n",
    "import xlwings as xw\n",
    "import folium\n",
    "import docplex.mp.solution as mp_sol\n",
    "from docplex.mp.model import Model\n",
    "from geopy.distance import great_circle\n",
    "import json\n",
    "\n",
    "n = 15\n",
    "customer = [i for i in range(1, n + 1)]\n",
    "node = [0] + customer\n",
    "arcos = [(i,j) for i in node for j in node if i != j]\n",
    "f = open('pelanggan.json')\n",
    "data = json.load(f)\n",
    "# get customer demand and location data\n",
    "df = pd.DataFrame(data)\n",
    "# print(df)\n",
    "# get distance data\n",
    "distance = np.loadtxt('distance.txt')\n",
    "\n",
    "vehicle_capacity = 250"
   ]
  },
  {
   "cell_type": "code",
   "execution_count": 3,
   "id": "automotive-integer",
   "metadata": {},
   "outputs": [],
   "source": [
    "mdl = Model('CVRP')"
   ]
  },
  {
   "cell_type": "code",
   "execution_count": 4,
   "id": "acoustic-chuck",
   "metadata": {},
   "outputs": [],
   "source": [
    "x = mdl.binary_var_dict(arcos, name='x')\n",
    "u = mdl.continuous_var_dict(customer, name='u')\n",
    "t = mdl.continuous_var_dict(customer, name='t')\n",
    "w = mdl.continuous_var_dict(customer, name='w')"
   ]
  },
  {
   "cell_type": "markdown",
   "id": "crude-average",
   "metadata": {},
   "source": [
    "$$\\min \\sum_{(i,j)\\in A}d_{i,j}x_{i,j}$$"
   ]
  },
  {
   "cell_type": "code",
   "execution_count": 5,
   "id": "auburn-scanning",
   "metadata": {},
   "outputs": [],
   "source": [
    "mdl.minimize(mdl.sum(distance[(i, j)] * x[(i, j)] for i, j in arcos))"
   ]
  },
  {
   "cell_type": "markdown",
   "id": "changed-circuit",
   "metadata": {},
   "source": [
    "$$ \\sum_{(i,j)\\in A : j=h} x_{i,j} = 1 \\qquad \\forall \\ h \\in C $$"
   ]
  },
  {
   "cell_type": "code",
   "execution_count": 6,
   "id": "actual-vector",
   "metadata": {},
   "outputs": [],
   "source": [
    "for h in customer:\n",
    "    mdl.add_constraint(mdl.sum(x[(i,j)] for i,j in arcos if i==h)==1, ctname='out_%d'%h)"
   ]
  },
  {
   "cell_type": "markdown",
   "id": "hispanic-bandwidth",
   "metadata": {},
   "source": [
    "$$ \\sum_{(i,j)\\in A : i=h} x_{i,j} = 1 \\qquad \\forall \\ h \\in C $$"
   ]
  },
  {
   "cell_type": "code",
   "execution_count": 7,
   "id": "healthy-canberra",
   "metadata": {},
   "outputs": [],
   "source": [
    "for h in customer:\n",
    "    mdl.add_constraint(mdl.sum(x[(i,j)] for i,j in arcos if j==h)==1, ctname='in_%d'%h)"
   ]
  },
  {
   "cell_type": "markdown",
   "id": "cathedral-haven",
   "metadata": {},
   "source": [
    "$$ x_{i,j} = 1 \\Rightarrow u_i + v_j = u_j \\qquad \\forall \\ (i,j) \\in A : i\\neq 0 , \\ j\\neq 0 $$\n",
    "$$ x_{i,j} = 1 \\Rightarrow w_i + p_j = w_j \\qquad \\forall \\ (i,j) \\in A : i\\neq 0 , \\ j\\neq 0 $$"
   ]
  },
  {
   "cell_type": "code",
   "execution_count": 8,
   "id": "worse-peter",
   "metadata": {},
   "outputs": [],
   "source": [
    "for i, j in arcos:\n",
    "    if i!=0 and j!=0:\n",
    "        mdl.add_indicator(x[(i,j)], u[i] + df.demand[j] == u[j])"
   ]
  },
  {
   "cell_type": "markdown",
   "id": "flying-handle",
   "metadata": {},
   "source": [
    "$$ v_i \\leq u_i \\leq V \\qquad \\forall \\ i \\in C $$\n",
    "$$ p_i \\leq w_i \\leq P \\qquad \\forall \\ i \\in C $$"
   ]
  },
  {
   "cell_type": "code",
   "execution_count": 9,
   "id": "trained-marble",
   "metadata": {},
   "outputs": [],
   "source": [
    "for i in customer:\n",
    "    mdl.add_constraint(df.demand[i] <= u[i])\n",
    "    mdl.add_constraint(u[i] <= vehicle_capacity)"
   ]
  },
  {
   "cell_type": "code",
   "execution_count": 10,
   "id": "quick-introduction",
   "metadata": {},
   "outputs": [
    {
     "name": "stdout",
     "output_type": "stream",
     "text": [
      "Version identifier: 12.10.0.0 | 2019-11-26 | 843d4de2ae\n",
      "CPXPARAM_Read_DataCheck                          1\n",
      "CPXPARAM_TimeLimit                               60\n",
      "Found incumbent of value 84444.000000 after 0.00 sec. (0.02 ticks)\n",
      "Tried aggregator 2 times.\n",
      "MIP Presolve eliminated 30 rows and 15 columns.\n",
      "MIP Presolve modified 105 coefficients.\n",
      "Aggregator did 105 substitutions.\n",
      "Reduced MIP has 135 rows, 360 columns, and 765 nonzeros.\n",
      "Reduced MIP has 240 binaries, 0 generals, 0 SOSs, and 210 indicators.\n",
      "Presolve time = 0.05 sec. (0.85 ticks)\n",
      "Probing time = 0.02 sec. (1.09 ticks)\n",
      "Tried aggregator 1 time.\n",
      "Detecting symmetries...\n",
      "Reduced MIP has 135 rows, 360 columns, and 765 nonzeros.\n",
      "Reduced MIP has 240 binaries, 0 generals, 0 SOSs, and 210 indicators.\n",
      "Presolve time = 0.02 sec. (0.52 ticks)\n",
      "Probing time = 0.00 sec. (1.05 ticks)\n",
      "Clique table members: 135.\n",
      "MIP emphasis: balance optimality and feasibility.\n",
      "MIP search method: dynamic search.\n",
      "Parallel mode: deterministic, using up to 8 threads.\n",
      "Root relaxation solution time = 0.02 sec. (0.28 ticks)\n",
      "\n",
      "        Nodes                                         Cuts/\n",
      "   Node  Left     Objective  IInf  Best Integer    Best Bound    ItCnt     Gap\n",
      "\n",
      "*     0+    0                        84444.0000        0.0000           100.00%\n",
      "*     0+    0                        83041.0000        0.0000           100.00%\n",
      "      0     0    12082.0000    15    83041.0000    12082.0000       17   85.45%\n",
      "      0     0    12125.0000    15    83041.0000      Cuts: 32       37   85.40%\n",
      "      0     0    12125.0000    15    83041.0000      Cuts: 15       51   85.40%\n",
      "      0     0    12129.6933    15    83041.0000  Impl Bds: 15       57   85.39%\n",
      "      0     0    12131.5293    15    83041.0000   Impl Bds: 6       62   85.39%\n",
      "      0     0    12133.2170    15    83041.0000       Cuts: 3       64   85.39%\n",
      "Detecting symmetries...\n",
      "      0     0    12133.2860    15    83041.0000   Impl Bds: 2       66   85.39%\n",
      "*     0+    0                        24864.0000    12133.2860            51.20%\n",
      "*     0+    0                        23215.0000    12133.2860            47.74%\n",
      "*     0+    0                        21076.0000    12133.2860            42.43%\n",
      "Detecting symmetries...\n",
      "      0     2    12133.2860    13    21076.0000    12147.5765       66   42.36%\n",
      "Elapsed time = 0.31 sec. (16.85 ticks, tree = 0.02 MB, solutions = 5)\n",
      "*   763+  347                        20794.0000    12236.1856            41.16%\n",
      "\n",
      "Performing restart 1\n",
      "\n",
      "Repeating presolve.\n",
      "Tried aggregator 1 time.\n",
      "Reduced MIP has 135 rows, 360 columns, and 765 nonzeros.\n",
      "Reduced MIP has 240 binaries, 0 generals, 0 SOSs, and 210 indicators.\n",
      "Presolve time = 0.00 sec. (0.37 ticks)\n",
      "Tried aggregator 1 time.\n",
      "Reduced MIP has 135 rows, 360 columns, and 765 nonzeros.\n",
      "Reduced MIP has 240 binaries, 0 generals, 0 SOSs, and 210 indicators.\n",
      "Presolve time = 0.00 sec. (0.55 ticks)\n",
      "Represolve time = 0.03 sec. (2.94 ticks)\n",
      "   4119     0    12150.6272    14    20794.0000       Cuts: 7    28030   38.79%\n",
      "   4119     0    12152.0000    14    20794.0000       Cuts: 3    28043   38.79%\n",
      "   4119     0    12152.0000    14    20794.0000  Impl Bds: 38    28064   38.79%\n",
      "   4119     0    12162.3813    14    20794.0000   Impl Bds: 7    28075   38.79%\n",
      "   4119     0    12171.5025    14    20794.0000       Cuts: 5    28083   38.79%\n",
      "   4119     0    12196.8049    14    20794.0000      Cuts: 12    28105   38.79%\n",
      "   7728  2013    13905.5080    11    20794.0000    12898.0000    48362   37.97%\n",
      "  15528  5739    20330.0240     5    20794.0000    13385.2960   107416   35.63%\n",
      "* 20111  7466      integral     0    20595.0000    13508.8108   140097   34.41%\n",
      "  22898  9318        cutoff          20595.0000    13608.7656   171338   33.92%\n",
      "  31443 12545    19497.0000     8    20595.0000    13726.6640   231122   33.35%\n",
      "  38341 14872    17924.4900    10    20595.0000    13837.8622   273197   32.81%\n",
      "  46976 19301    19616.0000     8    20595.0000    13905.8731   352067   32.48%\n",
      "  52647 21419    14845.6213    16    20595.0000    13978.1640   391175   32.13%\n",
      "* 58773 23634      integral     0    20202.0000    14039.9519   437402   30.50%\n",
      "* 59703+24798                        20197.0000    14061.2983            30.38%\n",
      "  60620 24364    19206.8574     9    20197.0000    14068.9520   449968   30.34%\n",
      "  68940 28628    infeasible          20197.0000    14138.2510   535365   30.00%\n",
      "  94200 38878    15479.4684    19    20197.0000    14333.9687   747217   29.03%\n",
      "Elapsed time = 17.86 sec. (3116.60 ticks, tree = 14.41 MB, solutions = 9)\n",
      " 121480 49851    15092.0450    17    20197.0000    14494.5390   974419   28.23%\n",
      " 148345 59966    19458.1776    10    20197.0000    14619.9080  1191946   27.61%\n",
      " 173391 69532    16723.8168    13    20197.0000    14714.9448  1404611   27.14%\n",
      " 198220 77623    15074.6356    18    20197.0000    14798.7600  1589002   26.73%\n",
      " 219673 86678    17940.3751    12    20197.0000    14866.2208  1799077   26.39%\n",
      " 242806 95719    19002.7000     8    20197.0000    14921.6392  2012566   26.12%\n",
      "Starting limited solution polishing.\n",
      " 259476 101255    15056.9480    18    20197.0000    14976.3360  2145462   25.85%\n",
      "\n",
      "Clique cuts applied:  5\n",
      "Cover cuts applied:  2\n",
      "Implied bound cuts applied:  351\n",
      "Mixed integer rounding cuts applied:  3\n",
      "Gomory fractional cuts applied:  5\n",
      "\n",
      "Root node processing (before b&c):\n",
      "  Real time             =    0.30 sec. (16.77 ticks)\n",
      "Parallel b&c, 8 threads:\n",
      "  Real time             =   59.75 sec. (10080.11 ticks)\n",
      "  Sync time (average)   =    5.78 sec.\n",
      "  Wait time (average)   =    0.11 sec.\n",
      "                          ------------\n",
      "Total (root+branch&cut) =   60.05 sec. (10096.88 ticks)\n"
     ]
    }
   ],
   "source": [
    "mdl.parameters.timelimit = 60\n",
    "# mdl.parameters.parallel = 1\n",
    "# mdl.parameters.threads =  0\n",
    "# mdl.parameters.benders.strategy = -1\n",
    "# mdl.parameters.mip.limits.cutsfactor = 0\n",
    "# mdl.parameters.mip.tolerances.mipgap = 0.1\n",
    "# mdl.parameters.mip.strategy.branch = 0\n",
    "\n",
    "###Menghitung Waktu\n",
    "import time\n",
    "start_timer = time.time()\n",
    "\n",
    "solucion = mdl.solve(log_output=True)\n",
    "\n",
    "###Menghitung Waktu\n",
    "done_timer = time.time()\n",
    "elapsed = done_timer - start_timer"
   ]
  },
  {
   "cell_type": "code",
   "execution_count": 11,
   "id": "manufactured-china",
   "metadata": {},
   "outputs": [
    {
     "data": {
      "text/plain": [
       "<JobSolveStatus.FEASIBLE_SOLUTION: 1>"
      ]
     },
     "execution_count": 11,
     "metadata": {},
     "output_type": "execute_result"
    }
   ],
   "source": [
    "mdl.get_solve_status()"
   ]
  },
  {
   "cell_type": "code",
   "execution_count": 12,
   "id": "charged-anthony",
   "metadata": {},
   "outputs": [],
   "source": [
    "# Encontrar las rutas por separado\n",
    "route = []\n",
    "total_dis = []\n",
    "for h in customer:\n",
    "    if x[(0, h)].solution_value > 0.9:\n",
    "        arcos_route = [(0, h)]\n",
    "        item_dis = distance[0][h]\n",
    "        j = h\n",
    "        while j!=0:\n",
    "            i = j\n",
    "            for k in node:\n",
    "                if i!=k and x[(i, k)].solution_value > 0.9:\n",
    "                    j = k\n",
    "                    arcos_route.append((i, j))\n",
    "                    item_dis+= distance[i][j]\n",
    "                    break\n",
    "        route.append(arcos_route)\n",
    "        total_dis.append(item_dis)"
   ]
  },
  {
   "cell_type": "code",
   "execution_count": 13,
   "id": "detected-station",
   "metadata": {},
   "outputs": [
    {
     "name": "stdout",
     "output_type": "stream",
     "text": [
      "Rute 0\n",
      "[(0, 9), (9, 3), (3, 8), (8, 4), (4, 1), (1, 2), (2, 0)] -> 6898.0\n",
      "Rute 1\n",
      "[(0, 10), (10, 11), (11, 0)] -> 3138.0\n",
      "Rute 2\n",
      "[(0, 12), (12, 5), (5, 15), (15, 14), (14, 7), (7, 13), (13, 6), (6, 0)] -> 10161.0\n",
      "Total Distace : 20197.0\n",
      "60.09498834609985\n"
     ]
    }
   ],
   "source": [
    "best_distance = 0\n",
    "for n in range(len(route)):\n",
    "    print(\"Rute \"+str(n))\n",
    "    print(str(route[n])+\" -> \"+str(total_dis[n]))\n",
    "    best_distance+=total_dis[n]\n",
    "print(\"Total Distace : \"+str(best_distance))\n",
    "print(elapsed)"
   ]
  },
  {
   "cell_type": "markdown",
   "id": "active-corrections",
   "metadata": {},
   "source": [
    "##### "
   ]
  }
 ],
 "metadata": {
  "kernelspec": {
   "display_name": "Python 3.7",
   "language": "python",
   "name": "py37"
  },
  "language_info": {
   "codemirror_mode": {
    "name": "ipython",
    "version": 3
   },
   "file_extension": ".py",
   "mimetype": "text/x-python",
   "name": "python",
   "nbconvert_exporter": "python",
   "pygments_lexer": "ipython3",
   "version": "3.7.10"
  }
 },
 "nbformat": 4,
 "nbformat_minor": 5
}
