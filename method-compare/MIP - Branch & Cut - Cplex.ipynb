{
 "cells": [
  {
   "cell_type": "markdown",
   "id": "controversial-irrigation",
   "metadata": {},
   "source": [
    "Formula:\n",
    "\\begin{align}\n",
    "\\min \\quad & \\sum_{(i,j)\\in A}d_{i,j}x_{i,j} \\\\\n",
    "\\text{s.t.} \\quad & \\sum_{(i,j)\\in A : j=h} x_{i,j} = 1 && \\forall \\ h \\in C \\\\\n",
    "& \\sum_{(i,j)\\in A : i=h} x_{i,j} = 1 && \\forall \\ h \\in C \\\\\n",
    "& x_{i,j} = 1 \\Rightarrow u_i + v_j = u_j && \\forall \\ (i,j) \\in A : i\\neq 0 , \\ j\\neq 0 \\\\\n",
    "& x_{i,j} = 1 \\Rightarrow w_i + p_j = w_j && \\forall \\ (i,j) \\in A : i\\neq 0 , \\ j\\neq 0 \\\\\n",
    "& v_i \\leq u_i \\leq V && \\forall \\ i \\in C \\\\\n",
    "& p_i \\leq w_i \\leq P && \\forall \\ i \\in C \\\\\n",
    "& x_{i,j} \\in \\{0,1\\} && \\forall \\ (i,j) \\in A\n",
    "\\end{align}"
   ]
  },
  {
   "cell_type": "code",
   "execution_count": 1,
   "id": "unauthorized-surveillance",
   "metadata": {},
   "outputs": [
    {
     "name": "stdout",
     "output_type": "stream",
     "text": [
      "3.7.10\n"
     ]
    }
   ],
   "source": [
    "import os\n",
    "os.environ[\"SPARK_HOME\"] = \"D:\\RISET\\Spark\\spark-3.1.1-bin-hadoop2.7\"\n",
    "from platform import python_version\n",
    "print(python_version())"
   ]
  },
  {
   "cell_type": "code",
   "execution_count": 2,
   "id": "defensive-missile",
   "metadata": {},
   "outputs": [],
   "source": [
    "import numpy as np\n",
    "import pandas as pd\n",
    "import xlwings as xw\n",
    "import folium\n",
    "import docplex.mp.solution as mp_sol\n",
    "from docplex.mp.model import Model\n",
    "from geopy.distance import great_circle\n",
    "import json\n",
    "\n",
    "n = 50\n",
    "customer = [i for i in range(1, n + 1)]\n",
    "node = [0] + customer\n",
    "arcos = [(i,j) for i in node for j in node if i != j]\n",
    "f = open('pelanggan.json')\n",
    "data = json.load(f)\n",
    "# get customer demand and location data\n",
    "df = pd.DataFrame(data)\n",
    "# print(df)\n",
    "# get distance data\n",
    "distance = np.loadtxt('distance.txt')\n",
    "\n",
    "vehicle_capacity = 250"
   ]
  },
  {
   "cell_type": "code",
   "execution_count": 3,
   "id": "automotive-integer",
   "metadata": {},
   "outputs": [],
   "source": [
    "mdl = Model('CVRP')"
   ]
  },
  {
   "cell_type": "code",
   "execution_count": 4,
   "id": "acoustic-chuck",
   "metadata": {},
   "outputs": [],
   "source": [
    "x = mdl.binary_var_dict(arcos, name='x')\n",
    "u = mdl.continuous_var_dict(customer, name='u')\n",
    "w = mdl.continuous_var_dict(customer, name='w')"
   ]
  },
  {
   "cell_type": "markdown",
   "id": "crude-average",
   "metadata": {},
   "source": [
    "$$\\min \\sum_{(i,j)\\in A}d_{i,j}x_{i,j}$$"
   ]
  },
  {
   "cell_type": "code",
   "execution_count": 5,
   "id": "auburn-scanning",
   "metadata": {},
   "outputs": [],
   "source": [
    "mdl.minimize(mdl.sum(distance[(i, j)] * x[(i, j)] for i, j in arcos))"
   ]
  },
  {
   "cell_type": "markdown",
   "id": "changed-circuit",
   "metadata": {},
   "source": [
    "$$ \\sum_{(i,j)\\in A : j=h} x_{i,j} = 1 \\qquad \\forall \\ h \\in C $$"
   ]
  },
  {
   "cell_type": "code",
   "execution_count": 6,
   "id": "actual-vector",
   "metadata": {},
   "outputs": [],
   "source": [
    "for h in customer:\n",
    "    mdl.add_constraint(mdl.sum(x[(i,j)] for i,j in arcos if i==h)==1, ctname='out_%d'%h)"
   ]
  },
  {
   "cell_type": "markdown",
   "id": "hispanic-bandwidth",
   "metadata": {},
   "source": [
    "$$ \\sum_{(i,j)\\in A : i=h} x_{i,j} = 1 \\qquad \\forall \\ h \\in C $$"
   ]
  },
  {
   "cell_type": "code",
   "execution_count": 7,
   "id": "healthy-canberra",
   "metadata": {},
   "outputs": [],
   "source": [
    "for h in customer:\n",
    "    mdl.add_constraint(mdl.sum(x[(i,j)] for i,j in arcos if j==h)==1, ctname='in_%d'%h)"
   ]
  },
  {
   "cell_type": "markdown",
   "id": "cathedral-haven",
   "metadata": {},
   "source": [
    "$$ x_{i,j} = 1 \\Rightarrow u_i + v_j = u_j \\qquad \\forall \\ (i,j) \\in A : i\\neq 0 , \\ j\\neq 0 $$\n",
    "$$ x_{i,j} = 1 \\Rightarrow w_i + p_j = w_j \\qquad \\forall \\ (i,j) \\in A : i\\neq 0 , \\ j\\neq 0 $$"
   ]
  },
  {
   "cell_type": "code",
   "execution_count": 8,
   "id": "worse-peter",
   "metadata": {},
   "outputs": [],
   "source": [
    "for i, j in arcos:\n",
    "    if i!=0 and j!=0:\n",
    "        mdl.add_indicator(x[(i,j)], u[i] + df.demand[j] == u[j])"
   ]
  },
  {
   "cell_type": "markdown",
   "id": "flying-handle",
   "metadata": {},
   "source": [
    "$$ v_i \\leq u_i \\leq V \\qquad \\forall \\ i \\in C $$\n",
    "$$ p_i \\leq w_i \\leq P \\qquad \\forall \\ i \\in C $$"
   ]
  },
  {
   "cell_type": "code",
   "execution_count": 9,
   "id": "trained-marble",
   "metadata": {},
   "outputs": [],
   "source": [
    "for i in customer:\n",
    "    mdl.add_constraint(df.demand[i] <= u[i])\n",
    "    mdl.add_constraint(u[i] <= vehicle_capacity)"
   ]
  },
  {
   "cell_type": "code",
   "execution_count": 10,
   "id": "quick-introduction",
   "metadata": {},
   "outputs": [
    {
     "name": "stdout",
     "output_type": "stream",
     "text": [
      "Version identifier: 12.10.0.0 | 2019-11-26 | 843d4de2ae\n",
      "CPXPARAM_Read_DataCheck                          1\n",
      "CPXPARAM_TimeLimit                               60\n",
      "Found incumbent of value 461315.000000 after 0.00 sec. (0.20 ticks)\n",
      "Tried aggregator 2 times.\n",
      "MIP Presolve eliminated 100 rows and 50 columns.\n",
      "MIP Presolve modified 1225 coefficients.\n",
      "Aggregator did 1225 substitutions.\n",
      "Reduced MIP has 1325 rows, 3825 columns, and 8675 nonzeros.\n",
      "Reduced MIP has 2550 binaries, 0 generals, 0 SOSs, and 2450 indicators.\n",
      "Presolve time = 0.09 sec. (18.18 ticks)\n",
      "Probing time = 0.23 sec. (40.72 ticks)\n",
      "Tried aggregator 1 time.\n",
      "Detecting symmetries...\n",
      "Reduced MIP has 1325 rows, 3825 columns, and 8675 nonzeros.\n",
      "Reduced MIP has 2550 binaries, 0 generals, 0 SOSs, and 2450 indicators.\n",
      "Presolve time = 0.05 sec. (6.47 ticks)\n",
      "Probing time = 0.01 sec. (3.25 ticks)\n",
      "Clique table members: 1325.\n",
      "MIP emphasis: balance optimality and feasibility.\n",
      "MIP search method: dynamic search.\n",
      "Parallel mode: deterministic, using up to 8 threads.\n",
      "Root relaxation solution time = 0.06 sec. (2.89 ticks)\n",
      "\n",
      "        Nodes                                         Cuts/\n",
      "   Node  Left     Objective  IInf  Best Integer    Best Bound    ItCnt     Gap\n",
      "\n",
      "*     0+    0                       461315.0000        0.0000           100.00%\n",
      "      0     0    70210.0000    50   461315.0000    70210.0000       54   84.78%\n",
      "      0     0    75452.0847    50   461315.0000      Cuts: 71      138   83.64%\n",
      "      0     0    77247.9726    50   461315.0000      Cuts: 73      208   83.25%\n",
      "      0     0    77379.3912    50   461315.0000     Cuts: 107      244   83.23%\n",
      "      0     0    77942.9704    50   461315.0000      Cuts: 33      268   83.10%\n",
      "      0     0    77943.6671    50   461315.0000      Cuts: 28      285   83.10%\n",
      "Detecting symmetries...\n",
      "      0     0    77943.7512    50   461315.0000       Cuts: 6      292   83.10%\n",
      "*     0+    0                       158563.0000    77943.7512            50.84%\n",
      "*     0+    0                       154251.0000    77943.7512            49.47%\n",
      "Detecting symmetries...\n",
      "      0     2    77943.7512    89   154251.0000    79610.6209      292   48.39%\n",
      "Elapsed time = 2.56 sec. (267.57 ticks, tree = 0.02 MB, solutions = 3)\n",
      "   1012   851   134319.0000    17   154251.0000    79610.6209    10424   48.39%\n",
      "*  1073+  700                       153967.0000    79610.6209            48.29%\n",
      "*  1327+  700                       153827.0000    79610.6209            48.25%\n",
      "*  1377+  844                       151885.0000    79610.6209            47.58%\n",
      "*  1380+  844                       148400.0000    79610.6209            46.35%\n",
      "   1741  1397    82798.5773    53   148400.0000    80856.8910    16583   45.51%\n",
      "   3143  2704   135746.0000    10   148400.0000    80894.2632    30941   45.49%\n",
      "\n",
      "Performing restart 1\n",
      "\n",
      "Repeating presolve.\n",
      "Tried aggregator 1 time.\n",
      "Reduced MIP has 1325 rows, 3825 columns, and 8675 nonzeros.\n",
      "Reduced MIP has 2550 binaries, 0 generals, 0 SOSs, and 2450 indicators.\n",
      "Presolve time = 0.01 sec. (5.27 ticks)\n",
      "Tried aggregator 1 time.\n",
      "Reduced MIP has 1325 rows, 3825 columns, and 8675 nonzeros.\n",
      "Reduced MIP has 2550 binaries, 0 generals, 0 SOSs, and 2450 indicators.\n",
      "Presolve time = 0.02 sec. (7.26 ticks)\n",
      "Represolve time = 0.25 sec. (63.06 ticks)\n",
      "   3479     0    79678.0065    93   148400.0000      Cuts: 21    34505   45.49%\n",
      "   3479     0    81311.5801    93   148400.0000      Cuts: 36    34536   45.21%\n",
      "   3479     0    81611.9698    93   148400.0000      Cuts: 64    34562   45.01%\n",
      "   3479     0    82228.3982    93   148400.0000      Cuts: 33    34630   44.52%\n",
      "   3479     0    82524.1648    93   148400.0000     Cuts: 104    34686   44.39%\n",
      "   3479     0    82598.5427    93   148400.0000      Cuts: 68    34732   44.34%\n",
      "   3479     0    82673.1680    93   148400.0000     Cuts: 110    34778   44.29%\n",
      "   3479     0    82677.2546    93   148400.0000      Cuts: 28    34802   44.29%\n",
      "   3479     0    82714.4427    93   148400.0000      Cuts: 14    34823   44.26%\n",
      "   3479     0    82905.0732    93   148400.0000      Cuts: 39    34854   44.13%\n",
      "   3479     0    82920.7818    93   148400.0000      Cuts: 67    34887   44.12%\n",
      "   3479     0    82935.7062    93   148400.0000      Cuts: 35    34918   44.11%\n",
      "   3479     0    82937.9045    93   148400.0000      Cuts: 90    34935   44.11%\n",
      "   3479     0    82937.9842    93   148400.0000      Cuts: 16    34947   44.11%\n",
      "   3479     0    82940.4981    93   148400.0000      Cuts: 19    34955   44.11%\n",
      "   3479     0    82945.1222    93   148400.0000      Cuts: 15    34971   44.11%\n",
      "   3479     2    82945.1222    79   148400.0000    82945.1222    34971   44.11%\n",
      "   3521    33    85467.0000    26   148400.0000    83741.7665    36212   43.57%\n",
      "   4135   512   119133.0000    26   148400.0000    83741.7665    41986   43.57%\n",
      "   4909  1105   120900.2000    18   148400.0000    84075.1848    48446   43.35%\n",
      "   5799  1785    84349.8486    59   148400.0000    84185.0013    57703   43.27%\n",
      "   6661  2671    95992.9853    25   148400.0000    84316.5386    71238   43.18%\n",
      "  10400  6098   141536.0000    11   148400.0000    84571.0820   124117   43.01%\n",
      "Elapsed time = 23.81 sec. (4389.53 ticks, tree = 9.94 MB, solutions = 10)\n",
      "  13950  8885   147132.4800    10   148400.0000    84737.0939   181677   42.90%\n",
      "  18438 12855    95757.5150    35   148400.0000    84907.0541   233896   42.79%\n",
      "  22949 16669   135696.0000     7   148400.0000    85000.9348   283962   42.72%\n",
      "  27427 20659   107958.3640    19   148400.0000    85097.4342   340706   42.66%\n",
      "  31896 24504    93670.1077    60   148400.0000    85151.7831   393981   42.62%\n",
      "  36007 28267   100214.2555    30   148400.0000    85235.4613   446370   42.56%\n",
      "Starting limited solution polishing.\n",
      "* 36475+28279                       145967.0000    85236.3910            41.61%\n",
      "* 37128+28533                       142845.0000    85236.3910            40.33%\n",
      "  37475 30154   138483.0000    12   142845.0000    85236.3910   476519   40.33%\n",
      "\n",
      "Clique cuts applied:  14\n",
      "Implied bound cuts applied:  204\n",
      "Flow cuts applied:  2\n",
      "Mixed integer rounding cuts applied:  34\n",
      "Zero-half cuts applied:  10\n",
      "Gomory fractional cuts applied:  31\n",
      "\n",
      "Root node processing (before b&c):\n",
      "  Real time             =    2.44 sec. (266.85 ticks)\n",
      "Parallel b&c, 8 threads:\n",
      "  Real time             =   57.64 sec. (11671.76 ticks)\n",
      "  Sync time (average)   =    8.59 sec.\n",
      "  Wait time (average)   =    0.05 sec.\n",
      "                          ------------\n",
      "Total (root+branch&cut) =   60.08 sec. (11938.61 ticks)\n"
     ]
    }
   ],
   "source": [
    "mdl.parameters.timelimit = 60\n",
    "# mdl.parameters.parallel = 1\n",
    "# mdl.parameters.threads =  0\n",
    "# mdl.parameters.benders.strategy = -1\n",
    "# mdl.parameters.mip.limits.cutsfactor = 0\n",
    "# mdl.parameters.mip.tolerances.mipgap = 0.1\n",
    "# mdl.parameters.mip.strategy.branch = 0\n",
    "\n",
    "###Menghitung Waktu\n",
    "import time\n",
    "start_timer = time.time()\n",
    "\n",
    "solucion = mdl.solve(log_output=True)\n",
    "\n",
    "###Menghitung Waktu\n",
    "done_timer = time.time()\n",
    "elapsed = done_timer - start_timer"
   ]
  },
  {
   "cell_type": "code",
   "execution_count": 11,
   "id": "manufactured-china",
   "metadata": {},
   "outputs": [
    {
     "data": {
      "text/plain": [
       "<JobSolveStatus.FEASIBLE_SOLUTION: 1>"
      ]
     },
     "execution_count": 11,
     "metadata": {},
     "output_type": "execute_result"
    }
   ],
   "source": [
    "mdl.get_solve_status()"
   ]
  },
  {
   "cell_type": "code",
   "execution_count": 12,
   "id": "charged-anthony",
   "metadata": {},
   "outputs": [],
   "source": [
    "# Encontrar las rutas por separado\n",
    "route = []\n",
    "total_dis = []\n",
    "for h in customer:\n",
    "    if x[(0, h)].solution_value > 0.9:\n",
    "        arcos_route = [(0, h)]\n",
    "        item_dis = distance[0][h]\n",
    "        j = h\n",
    "        while j!=0:\n",
    "            i = j\n",
    "            for k in node:\n",
    "                if i!=k and x[(i, k)].solution_value > 0.9:\n",
    "                    j = k\n",
    "                    arcos_route.append((i, j))\n",
    "                    item_dis+= distance[i][j]\n",
    "                    break\n",
    "        route.append(arcos_route)\n",
    "        total_dis.append(item_dis)"
   ]
  },
  {
   "cell_type": "code",
   "execution_count": 13,
   "id": "detected-station",
   "metadata": {},
   "outputs": [
    {
     "name": "stdout",
     "output_type": "stream",
     "text": [
      "Rute 0\n",
      "[(0, 1), (1, 2), (2, 24), (24, 9), (9, 3), (3, 8), (8, 0)] -> 8531.0\n",
      "Rute 1\n",
      "[(0, 10), (10, 23), (23, 6), (6, 22), (22, 0)] -> 5893.0\n",
      "Rute 2\n",
      "[(0, 16), (16, 17), (17, 18), (18, 19), (19, 20), (20, 4), (4, 40), (40, 0)] -> 10808.0\n",
      "Rute 3\n",
      "[(0, 21), (21, 11), (11, 50), (50, 25), (25, 26), (26, 0)] -> 9820.0\n",
      "Rute 4\n",
      "[(0, 31), (31, 32), (32, 42), (42, 41), (41, 30), (30, 0)] -> 34120.0\n",
      "Rute 5\n",
      "[(0, 34), (34, 48), (48, 43), (43, 44), (44, 36), (36, 47), (47, 0)] -> 20173.0\n",
      "Rute 6\n",
      "[(0, 35), (35, 46), (46, 45), (45, 12), (12, 7), (7, 13), (13, 0)] -> 13818.0\n",
      "Rute 7\n",
      "[(0, 38), (38, 37), (37, 39), (39, 5), (5, 15), (15, 14), (14, 0)] -> 11278.0\n",
      "Rute 8\n",
      "[(0, 49), (49, 33), (33, 27), (27, 29), (29, 28), (28, 0)] -> 28404.0\n",
      "Total Distace : 142845.0\n",
      "60.14341998100281\n"
     ]
    }
   ],
   "source": [
    "best_distance = 0\n",
    "for n in range(len(route)):\n",
    "    print(\"Rute \"+str(n))\n",
    "    print(str(route[n])+\" -> \"+str(total_dis[n]))\n",
    "    best_distance+=total_dis[n]\n",
    "print(\"Total Distace : \"+str(best_distance))\n",
    "print(elapsed)"
   ]
  },
  {
   "cell_type": "code",
   "execution_count": null,
   "id": "angry-aside",
   "metadata": {},
   "outputs": [],
   "source": []
  }
 ],
 "metadata": {
  "kernelspec": {
   "display_name": "Python 3.7",
   "language": "python",
   "name": "py37"
  },
  "language_info": {
   "codemirror_mode": {
    "name": "ipython",
    "version": 3
   },
   "file_extension": ".py",
   "mimetype": "text/x-python",
   "name": "python",
   "nbconvert_exporter": "python",
   "pygments_lexer": "ipython3",
   "version": "3.7.10"
  }
 },
 "nbformat": 4,
 "nbformat_minor": 5
}
